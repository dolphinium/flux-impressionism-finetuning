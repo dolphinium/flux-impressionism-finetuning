{
 "cells": [
  {
   "cell_type": "code",
   "execution_count": null,
   "metadata": {},
   "outputs": [
    {
     "name": "stdout",
     "output_type": "stream",
     "text": [
      "{\n",
      "  \"description\": \"The image is a painting of a beach scene. The sky is a mix of blue and white, with clouds scattered across it. The beach is wide and sandy, with pools of water reflecting the sky. There are several people on the beach, some walking along the shore, others gathered in small groups. Some of the people are carrying umbrellas. In the distance, there are a few boats on the water. The overall impression is one of a peaceful day at the beach.\"\n",
      "}\n"
     ]
    }
   ],
   "source": [
    "import os\n",
    "import google.generativeai as genai\n",
    "from PIL import Image\n",
    "\n",
    "# Load API key from .env file\n",
    "\n",
    "api_key = \"YOUR_API_KEY\"\n",
    "\n",
    "# Initialize the Gemini client\n",
    "# client = genai.Client(api_key=api_key)\n",
    "genai.configure(api_key=api_key)\n",
    "model = genai.GenerativeModel(\"gemini-2.0-flash\")\n",
    "# Load and display the image\n",
    "image_path = 'test.jpg'\n",
    "image = Image.open(image_path)\n",
    "image.show()\n",
    "\n",
    "prompt = \"Describe the content of this image.\"\n",
    "response = model.generate_content(\n",
    "            contents=[prompt, image],\n",
    "            generation_config={\n",
    "                \"temperature\": 0,\n",
    "                \"max_output_tokens\": 2048,\n",
    "                \"top_p\": 0.9,\n",
    "                \"top_k\": 40,\n",
    "                \"response_mime_type\": \"application/json\",\n",
    "            }\n",
    "        )\n",
    "\n",
    "print(response.text)"
   ]
  },
  {
   "cell_type": "code",
   "execution_count": 5,
   "metadata": {},
   "outputs": [],
   "source": [
    "prompt = \"Describe the content of this image.\"\n",
    "response = model.generate_content(\n",
    "            contents=[prompt, image],\n",
    "            generation_config={\n",
    "                \"temperature\": 0,\n",
    "                \"max_output_tokens\": 2048,\n",
    "                \"top_p\": 0.9,\n",
    "                \"top_k\": 40,\n",
    "                \"response_mime_type\": \"application/json\",\n",
    "            }\n",
    "        )"
   ]
  },
  {
   "cell_type": "code",
   "execution_count": 6,
   "metadata": {},
   "outputs": [
    {
     "data": {
      "text/plain": [
       "'{\\n  \"description\": \"The image is a painting of a beach scene. The sky is a mix of blue and white, with clouds scattered across it. The beach is wide and sandy, with pools of water reflecting the sky. There are several people on the beach, some walking along the shore, others gathered in small groups. Some of the people are carrying umbrellas. In the distance, there are a few boats on the water. The overall impression is one of a peaceful day at the beach.\"\\n}'"
      ]
     },
     "execution_count": 6,
     "metadata": {},
     "output_type": "execute_result"
    }
   ],
   "source": [
    "response.text"
   ]
  },
  {
   "cell_type": "code",
   "execution_count": null,
   "metadata": {},
   "outputs": [],
   "source": [
    "\n",
    "# Prepare the prompt and image for the model\n",
    "\n",
    "contents = [prompt, image]\n",
    "\n",
    "# Generate content using the Gemini 2.0 Flash model\n",
    "response = client.models.generate_content(\n",
    "    model='gemini-2.0-flash',\n",
    "    contents=contents\n",
    ")\n",
    "\n",
    "# Output the generated text\n",
    "print(\"Generated Text:\", response.text)"
   ]
  }
 ],
 "metadata": {
  "kernelspec": {
   "display_name": "genai",
   "language": "python",
   "name": "python3"
  },
  "language_info": {
   "codemirror_mode": {
    "name": "ipython",
    "version": 3
   },
   "file_extension": ".py",
   "mimetype": "text/x-python",
   "name": "python",
   "nbconvert_exporter": "python",
   "pygments_lexer": "ipython3",
   "version": "3.10.16"
  }
 },
 "nbformat": 4,
 "nbformat_minor": 2
}
