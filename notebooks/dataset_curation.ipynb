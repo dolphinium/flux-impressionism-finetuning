{
 "cells": [
  {
   "cell_type": "markdown",
   "metadata": {},
   "source": [
    "# WikiArt Impressionism Dataset Curation\n",
    "\n",
    "This notebook processes the WikiArt dataset to create a curated subset of Impressionist paintings.\n",
    "\n",
    "**Requirements:**\n",
    "- High-RAM runtime (recommended: 25-50GB)\n",
    "- Google Drive mounted for cache storage\n",
    "- Hugging Face account token"
   ]
  },
  {
   "cell_type": "code",
   "execution_count": null,
   "metadata": {},
   "source": [
    "# Install required packages\n",
    "!pip install datasets pillow huggingface-hub tqdm"
   ]
  },
  {
   "cell_type": "code",
   "execution_count": null,
   "metadata": {},
   "source": [
    "# Mount Google Drive\n",
    "from google.colab import drive\n",
    "drive.mount('/content/drive')"
   ]
  },
  {
   "cell_type": "code",
   "execution_count": null,
   "metadata": {},
   "source": [
    "# Set up Hugging Face credentials\n",
    "from huggingface_hub import login\n",
    "\n",
    "# Replace with your token from https://huggingface.co/settings/tokens\n",
    "HF_TOKEN = \"your_token_here\"  # @param {type:\"string\"}\n",
    "login(HF_TOKEN)"
   ]
  },
  {
   "cell_type": "code",
   "execution_count": null,
   "metadata": {},
   "source": [
    "# Clone the repository and set up paths\n",
    "import os\n",
    "\n",
    "# Clone if not exists\n",
    "if not os.path.exists('fine-tuning'):\n",
    "    !git clone https://github.com/your-username/fine-tuning.git\n",
    "\n",
    "# Add project root to Python path\n",
    "import sys\n",
    "sys.path.append('fine-tuning')"
   ]
  },
  {
   "cell_type": "code",
   "execution_count": null,
   "metadata": {},
   "source": [
    "# Import and run the curator\n",
    "from src.data.dataset_curator import DatasetCurator\n",
    "\n",
    "# Initialize with Google Drive cache directory\n",
    "curator = DatasetCurator(cache_dir='/content/drive/MyDrive/fine-tuning/cache')\n",
    "\n",
    "# Process dataset\n",
    "dataset = curator.process_dataset()\n",
    "\n",
    "# Print dataset statistics\n",
    "print(\"Dataset statistics:\")\n",
    "print(f\"Total images: {len(dataset)}\")\n",
    "genre_counts = dataset.to_pandas()['genre'].value_counts()\n",
    "print(\"\\nGenre distribution:\")\n",
    "print(genre_counts)"
   ]
  },
  {
   "cell_type": "code",
   "execution_count": null,
   "metadata": {},
   "source": [
    "# Upload to Hugging Face Hub\n",
    "repo_name = \"your-username/impressionism-curated\"  # @param {type:\"string\"}\n",
    "private = True  # @param {type:\"boolean\"}\n",
    "\n",
    "repo_url = curator.upload_to_hub(dataset, repo_name, private=private)\n",
    "print(f\"Dataset uploaded to: {repo_url}\")"
   ]
  }
 ],
 "metadata": {
  "language_info": {
   "name": "python"
  }
 },
 "nbformat": 4,
 "nbformat_minor": 2
}
