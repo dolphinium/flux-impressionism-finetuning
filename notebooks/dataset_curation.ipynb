{
 "cells": [
  {
   "cell_type": "markdown",
   "metadata": {},
   "source": [
    "# WikiArt Impressionism Dataset Curation\n",
    "\n",
    "This notebook processes the WikiArt dataset to create a curated subset of Impressionist paintings.\n",
    "\n",
    "**Requirements:**\n",
    "- High-RAM runtime (recommended: 25-50GB)\n",
    "- Google Drive mounted for cache storage\n",
    "- Hugging Face account token"
   ]
  },
  {
   "cell_type": "code",
   "execution_count": null,
   "metadata": {},
   "outputs": [],
   "source": [
    "# Install required packages\n",
    "!pip install datasets pillow huggingface-hub tqdm"
   ]
  },
  {
   "cell_type": "code",
   "execution_count": null,
   "metadata": {},
   "outputs": [],
   "source": [
    "# Mount Google Drive\n",
    "from google.colab import drive\n",
    "drive.mount('/content/drive')"
   ]
  },
  {
   "cell_type": "code",
   "execution_count": null,
   "metadata": {},
   "outputs": [],
   "source": [
    "# Set up Hugging Face credentials\n",
    "from huggingface_hub import login\n",
    "\n",
    "# Replace with your token from https://huggingface.co/settings/tokens\n",
    "HF_TOKEN = \"your_token_here\"  # @param {type:\"string\"}\n",
    "login(HF_TOKEN)"
   ]
  },
  {
   "cell_type": "code",
   "execution_count": null,
   "metadata": {},
   "outputs": [],
   "source": [
    "# Clone the repository and set up paths\n",
    "import os\n",
    "import sys\n",
    "from pathlib import Path\n",
    "\n",
    "# Create project directory if it doesn't exist\n",
    "project_dir = Path('/content/drive/MyDrive/fine-tuning')\n",
    "project_dir.mkdir(parents=True, exist_ok=True)\n",
    "\n",
    "# Clone if not exists\n",
    "if not (project_dir / '.git').exists():\n",
    "    !cd {project_dir} && git clone https://github.com/your-username/fine-tuning.git .\n",
    "\n",
    "# Add project root to Python path\n",
    "sys.path.append(str(project_dir))"
   ]
  },
  {
   "cell_type": "code",
   "execution_count": null,
   "metadata": {},
   "outputs": [],
   "source": [
    "# Import required libraries\n",
    "import logging\n",
    "from src.data.dataset_curator import DatasetCurator\n",
    "import pandas as pd\n",
    "import matplotlib.pyplot as plt\n",
    "\n",
    "# Configure logging\n",
    "logging.basicConfig(\n",
    "    level=logging.INFO,\n",
    "    format='%(asctime)s - %(name)s - %(levelname)s - %(message)s'\n",
    ")\n",
    "\n",
    "# Initialize with Google Drive cache directory\n",
    "cache_dir = project_dir / 'cache'\n",
    "curator = DatasetCurator(cache_dir=str(cache_dir))\n",
    "\n",
    "try:\n",
    "    # Process dataset\n",
    "    dataset = curator.process_dataset()\n",
    "    \n",
    "    # Print dataset statistics\n",
    "    print(\"\\nDataset Statistics:\")\n",
    "    print(f\"Total images: {len(dataset)}\")\n",
    "    \n",
    "    # Convert to pandas for analysis\n",
    "    df = dataset.to_pandas()\n",
    "    \n",
    "    # Genre distribution\n",
    "    genre_counts = df['genre'].value_counts()\n",
    "    print(\"\\nGenre Distribution:\")\n",
    "    print(genre_counts)\n",
    "    \n",
    "    # Plot genre distribution\n",
    "    plt.figure(figsize=(10, 6))\n",
    "    genre_counts.plot(kind='bar')\n",
    "    plt.title('Genre Distribution in Curated Dataset')\n",
    "    plt.xlabel('Genre ID')\n",
    "    plt.ylabel('Count')\n",
    "    plt.tight_layout()\n",
    "    plt.show()\n",
    "    \n",
    "except Exception as e:\n",
    "    logging.error(f\"Error processing dataset: {e}\")\n",
    "    raise"
   ]
  },
  {
   "cell_type": "code",
   "execution_count": null,
   "metadata": {},
   "outputs": [],
   "source": [
    "# Upload to Hugging Face Hub\n",
    "try:\n",
    "    repo_name = \"your-username/impressionism-curated\"  # @param {type:\"string\"}\n",
    "    private = True  # @param {type:\"boolean\"}\n",
    "    \n",
    "    print(f\"\\nUploading dataset to {repo_name}...\")\n",
    "    repo_url = curator.upload_to_hub(dataset, repo_name, private=private)\n",
    "    print(f\"Successfully uploaded dataset to: {repo_url}\")\n",
    "    \n",
    "except Exception as e:\n",
    "    logging.error(f\"Error uploading to Hugging Face Hub: {e}\")\n",
    "    raise"
   ]
  }
 ],
 "metadata": {
  "language_info": {
   "name": "python"
  }
 },
 "nbformat": 4,
 "nbformat_minor": 2
}
